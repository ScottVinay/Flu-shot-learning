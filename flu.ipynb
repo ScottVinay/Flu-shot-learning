{
 "cells": [
  {
   "cell_type": "markdown",
   "metadata": {},
   "source": [
    "# Flu Shot Learning"
   ]
  },
  {
   "cell_type": "markdown",
   "metadata": {},
   "source": [
    "To do\n",
    "- explore the data\n",
    "- aoc curve, analysis etc\n",
    "- explore categoricals with skl\n",
    "- try many different models\n",
    "- learning curves\n",
    "- why AUC and not max difference between curve and linear?"
   ]
  },
  {
   "cell_type": "markdown",
   "metadata": {},
   "source": [
    "## Load modules and data"
   ]
  },
  {
   "cell_type": "code",
   "execution_count": 8,
   "metadata": {},
   "outputs": [],
   "source": [
    "# Fundamental\n",
    "import pandas as pd\n",
    "import numpy as np\n",
    "from matplotlib import pyplot as plt\n",
    "import seaborn as sns\n",
    "\n",
    "# Preprocessing\n",
    "from sklearn.pipeline import Pipeline\n",
    "from sklearn.preprocessing import StandardScaler, MinMaxScaler, LabelEncoder, OneHotEncoder\n",
    "from sklearn.impute import SimpleImputer\n",
    "from sklearn.compose import ColumnTransformer\n",
    "from sklearn.base import TransformerMixin, BaseEstimator\n",
    "\n",
    "# Modelling\n",
    "from sklearn.linear_model import LogisticRegression\n",
    "from sklearn.ensemble import RandomForestClassifier\n",
    "from sklearn.multioutput import MultiOutputClassifier\n",
    "\n",
    "# Testing\n",
    "from sklearn.model_selection import train_test_split\n",
    "from sklearn.metrics import roc_curve, roc_auc_score\n",
    "from scipy.stats import pearsonr as corr"
   ]
  },
  {
   "cell_type": "code",
   "execution_count": 15,
   "metadata": {},
   "outputs": [],
   "source": [
    "dfx = pd.read_csv('training_set_features.csv')\n",
    "yall = pd.read_csv('training_set_labels.csv').values[:,1:] # First col = h1n1, second - seasonal.\n",
    "feats = list(dfx.columns)"
   ]
  },
  {
   "cell_type": "markdown",
   "metadata": {},
   "source": [
    "## Initial (unfitted) preprocessing"
   ]
  },
  {
   "cell_type": "code",
   "execution_count": 11,
   "metadata": {},
   "outputs": [
    {
     "data": {
      "text/plain": [
       "array(['55 - 64 Years', '35 - 44 Years', '18 - 34 Years', '65+ Years',\n",
       "       '45 - 54 Years'], dtype=object)"
      ]
     },
     "execution_count": 11,
     "metadata": {},
     "output_type": "execute_result"
    }
   ],
   "source": [
    "dfx['age_group'].unique()"
   ]
  },
  {
   "cell_type": "code",
   "execution_count": 12,
   "metadata": {},
   "outputs": [],
   "source": [
    "def initial_processing(df):\n",
    "    df['age_num'] = 0\n",
    "    df.loc[df['age_group'] == '18 - 34 Years','age_num'] = (34-18)/2\n",
    "    df.loc[df['age_group'] == '35 - 44 Years','age_num'] = (44-35)/2\n",
    "    df.loc[df['age_group'] == '45 - 54 Years','age_num'] = (54-45)/2\n",
    "    df.loc[df['age_group'] == '55 - 64 Years','age_num'] = (64-55)/2\n",
    "    df.loc[df['age_group'] == '65+ Years','age_num']     = 70\n",
    "    if 'respondent_id' in df.columns:\n",
    "        df.drop(columns=['respondent_id'],inplace=True)"
   ]
  },
  {
   "cell_type": "code",
   "execution_count": 13,
   "metadata": {},
   "outputs": [],
   "source": [
    "initial_processing(dfx)"
   ]
  },
  {
   "cell_type": "markdown",
   "metadata": {},
   "source": [
    "## Data exploration"
   ]
  },
  {
   "cell_type": "code",
   "execution_count": 16,
   "metadata": {},
   "outputs": [
    {
     "data": {
      "image/png": "[encoded data removed]",
      "text/plain": [
       "<Figure size 1080x720 with 6 Axes>"
      ]
     },
     "metadata": {
      "needs_background": "light"
     },
     "output_type": "display_data"
    }
   ],
   "source": [
    "fig, axes = plt.subplots(figsize = (15, 10), ncols=3, nrows=2)\n",
    "axeslist = [axes[0,i] for i in range(3)] + [axes[1,i] for i in range(3)]\n",
    "\n",
    "i=0\n",
    "for thing in feats:\n",
    "    if 'opinion' in thing:\n",
    "        dfx[thing].hist(ax = axeslist[i], bins=[0.5,1.5,2.5,3.5,4.5,5.5], grid=False, width=0.8)\n",
    "        axeslist[i].set_xlabel(thing)\n",
    "        i+=1\n",
    "plt.show()"
   ]
  },
  {
   "cell_type": "markdown",
   "metadata": {},
   "source": [
    "## Create objects for fitted preprocessing"
   ]
  },
  {
   "cell_type": "markdown",
   "metadata": {},
   "source": [
    "Here we make a function to scale the axes independently, instead of using a transformation pipeline. This is to allow more flexibility when performing feature engineering."
   ]
  },
  {
   "cell_type": "code",
   "execution_count": 17,
   "metadata": {},
   "outputs": [],
   "source": [
    "num_cols = list(dfx.columns[dfx.dtypes != object])\n",
    "cat_cols = list(dfx.columns[dfx.dtypes == object])"
   ]
  },
  {
   "cell_type": "markdown",
   "metadata": {},
   "source": [
    "#### Existing transformers\n",
    "Here we make pipes using built-in transformers."
   ]
  },
  {
   "cell_type": "code",
   "execution_count": 18,
   "metadata": {},
   "outputs": [],
   "source": [
    "numerical_processing = Pipeline([\n",
    "    ('imputer', SimpleImputer(strategy='median')),\n",
    "    ('mmscal', MinMaxScaler())\n",
    "])\n",
    "\n",
    "categorical_processing = Pipeline([\n",
    "    ('imputer', SimpleImputer(strategy='constant', fill_value='missing')),\n",
    "    ('onehot', OneHotEncoder(handle_unknown='ignore'))\n",
    "])"
   ]
  },
  {
   "cell_type": "markdown",
   "metadata": {},
   "source": [
    "#### Custom transformers / pipelines"
   ]
  },
  {
   "cell_type": "code",
   "execution_count": 19,
   "metadata": {},
   "outputs": [],
   "source": [
    "class WeightedOpinions(BaseEstimator, TransformerMixin):\n",
    "    def __init__(self):\n",
    "        pass\n",
    "    \n",
    "    def fit(self, X, y=None):\n",
    "        return self\n",
    "    \n",
    "    def transform(self, X, y=None):\n",
    "        for col in X.columns:\n",
    "            if 'opinion' in col:\n",
    "                X[col] = (X[col]-3)**3 # 3 is the mid-point. Raise to an odd-power to preserve monotonicity.\n",
    "        return X\n",
    "    \n",
    "extra_processing = Pipeline([\n",
    "    ('wo', WeightedOpinions()),\n",
    "    ('imputer', SimpleImputer(strategy='median')),\n",
    "    ('mmscal', MinMaxScaler())\n",
    "])"
   ]
  },
  {
   "cell_type": "markdown",
   "metadata": {},
   "source": [
    "#### Combine into ColumnTransformer"
   ]
  },
  {
   "cell_type": "code",
   "execution_count": 352,
   "metadata": {},
   "outputs": [],
   "source": [
    "preprocessor = ColumnTransformer(\n",
    "    transformers = [\n",
    "    ('ext', extra_processing, num_cols),\n",
    "    ('num', numerical_processing, num_cols),\n",
    "    ('cat', categorical_processing, cat_cols)\n",
    "    ], \n",
    "    remainder='drop')"
   ]
  },
  {
   "cell_type": "markdown",
   "metadata": {},
   "source": [
    "## Define models"
   ]
  },
  {
   "cell_type": "code",
   "execution_count": 360,
   "metadata": {},
   "outputs": [],
   "source": [
    "global_max_iter = 600\n",
    "\n",
    "model_logreg_l1 = MultiOutputClassifier(\n",
    "    estimator=LogisticRegression(penalty='l1', C=1, solver='liblinear', max_iter=global_max_iter)\n",
    ")\n",
    "\n",
    "model_logreg_l2 = MultiOutputClassifier(\n",
    "    estimator=LogisticRegression(penalty='l2', C=1, solver='lbfgs', max_iter=global_max_iter)\n",
    ")\n",
    "\n",
    "model_logreg_elastic = MultiOutputClassifier(\n",
    "    estimator=LogisticRegression(penalty='elasticnet', C=1, solver='saga', max_iter=global_max_iter, l1_ratio = 0.5)\n",
    ")\n",
    "\n",
    "model_rf01 = MultiOutputClassifier(\n",
    "    estimator=RandomForestClassifier()\n",
    ")\n",
    "\n",
    "\n",
    "#XX What is C?\n",
    "\n",
    "dict_of_models = {\n",
    "    'logred_l1':model_logreg_l1,\n",
    "    'logred_l2':model_logreg_l2,\n",
    "    'logreg_elastic':model_logreg_elastic,\n",
    "    'rf01':model_rf01,\n",
    "}"
   ]
  },
  {
   "cell_type": "markdown",
   "metadata": {},
   "source": [
    "## Define output translation functions"
   ]
  },
  {
   "cell_type": "code",
   "execution_count": 346,
   "metadata": {},
   "outputs": [],
   "source": [
    "def transform_MOC_output(arrin):\n",
    "    h1n1_probs = arrin[0][:,1]\n",
    "    seas_probs = arrin[1][:,1]\n",
    "    return np.stack([h1n1_probs, seas_probs]).T"
   ]
  },
  {
   "cell_type": "markdown",
   "metadata": {},
   "source": [
    "## Create train/test split"
   ]
  },
  {
   "cell_type": "code",
   "execution_count": 7,
   "metadata": {},
   "outputs": [],
   "source": [
    "dfxtr, dfxcv, ytr, ycv = train_test_split(\n",
    "    dfx,\n",
    "    yall,\n",
    "    test_size=0.33,\n",
    "    shuffle=True,\n",
    "    stratify=yall,\n",
    "    random_state=6\n",
    ")"
   ]
  },
  {
   "cell_type": "markdown",
   "metadata": {},
   "source": [
    "## Fit and test models"
   ]
  },
  {
   "cell_type": "code",
   "execution_count": 353,
   "metadata": {},
   "outputs": [],
   "source": [
    "xtr = preprocessor.fit_transform(dfxtr)\n",
    "xcv = preprocessor.transform(dfxcv)"
   ]
  },
  {
   "cell_type": "code",
   "execution_count": 368,
   "metadata": {},
   "outputs": [],
   "source": [
    "models_to_test = dict_of_models.keys() # Can change to a subset"
   ]
  },
  {
   "cell_type": "code",
   "execution_count": 369,
   "metadata": {
    "collapsed": true,
    "jupyter": {
     "outputs_hidden": true
    }
   },
   "outputs": [
    {
     "name": "stdout",
     "output_type": "stream",
     "text": [
      "Model logred_l1 fit complete\n",
      "Model logred_l2 fit complete\n",
      "Model logreg_elastic fit complete\n"
     ]
    },
    {
     "name": "stderr",
     "output_type": "stream",
     "text": [
      "/Users/Scott/opt/anaconda3/lib/python3.7/site-packages/sklearn/ensemble/forest.py:245: FutureWarning: The default value of n_estimators will change from 10 in version 0.20 to 100 in 0.22.\n",
      "  \"10 in version 0.20 to 100 in 0.22.\", FutureWarning)\n",
      "/Users/Scott/opt/anaconda3/lib/python3.7/site-packages/sklearn/ensemble/forest.py:245: FutureWarning: The default value of n_estimators will change from 10 in version 0.20 to 100 in 0.22.\n",
      "  \"10 in version 0.20 to 100 in 0.22.\", FutureWarning)\n"
     ]
    },
    {
     "name": "stdout",
     "output_type": "stream",
     "text": [
      "Model rf01 fit complete\n"
     ]
    }
   ],
   "source": [
    "for modelname in models_to_test:\n",
    "    model = dict_of_models[modelname]\n",
    "    model.fit(xtr, ytr);\n",
    "    print('Model {} fit complete'.format(modelname))"
   ]
  },
  {
   "cell_type": "code",
   "execution_count": 370,
   "metadata": {},
   "outputs": [],
   "source": [
    "dict_of_ypr = {}\n",
    "dict_of_auc = {}\n",
    "\n",
    "for modelname in models_to_test:\n",
    "    model = dict_of_models[modelname]\n",
    "    ypr = transform_MOC_output(model.predict_proba(xcv))\n",
    "    dict_of_ypr[modelname] = ypr\n",
    "    dict_of_auc[modelname] = roc_auc_score(ycv, ypr)"
   ]
  },
  {
   "cell_type": "code",
   "execution_count": 371,
   "metadata": {},
   "outputs": [
    {
     "data": {
      "text/plain": [
       "[('logred_l1', 0.8457386324723919),\n",
       " ('logred_l2', 0.8456195466077017),\n",
       " ('logreg_elastic', 0.8457178020021137),\n",
       " ('rf01', 0.8010941751261782)]"
      ]
     },
     "execution_count": 371,
     "metadata": {},
     "output_type": "execute_result"
    }
   ],
   "source": [
    "[(x, dict_of_auc[x]) for x in sorted(dict_of_auc)]"
   ]
  },
  {
   "cell_type": "code",
   "execution_count": 205,
   "metadata": {},
   "outputs": [],
   "source": [
    "def plot_roc(dict_of_ypr, label):\n",
    "    def subroutine(y_true, y_score, label_name, ax):\n",
    "        fpr, tpr, thresholds = roc_curve(y_true, y_score)\n",
    "        ax.plot(fpr, tpr)\n",
    "        ax.plot([0, 1], [0, 1], color='grey', linestyle='--')\n",
    "        ax.set_ylabel('TPR')\n",
    "        ax.set_xlabel('FPR')\n",
    "        ax.set_title(\n",
    "            f\"{label_name}: AUC = {roc_auc_score(y_true, y_score):.4f}\"\n",
    "        )\n",
    "\n",
    "    fig, ax = plt.subplots(1, 2, figsize=(7, 3.5))\n",
    "    ypr = dict_of_ypr[label]\n",
    "    \n",
    "    subroutine(\n",
    "        ycv[:,0], \n",
    "        ypr[:,0], \n",
    "        'h1n1_vaccine',\n",
    "        ax=ax[0]\n",
    "    )\n",
    "    subroutine(\n",
    "        ycv[:,1], \n",
    "        ypr[:,1], \n",
    "        'seasonal_vaccine',\n",
    "        ax=ax[1]\n",
    "    )\n",
    "    fig.tight_layout()\n",
    "    return None"
   ]
  },
  {
   "cell_type": "code",
   "execution_count": 206,
   "metadata": {},
   "outputs": [
    {
     "data": {
      "image/png": "[encoded data removed]",
      "text/plain": [
       "<Figure size 504x252 with 2 Axes>"
      ]
     },
     "metadata": {
      "needs_background": "light"
     },
     "output_type": "display_data"
    }
   ],
   "source": [
    "plot_roc(dict_of_ypr,'logred_l2')"
   ]
  },
  {
   "cell_type": "markdown",
   "metadata": {},
   "source": [
    "## Produce labels for submission"
   ]
  },
  {
   "cell_type": "code",
   "execution_count": 390,
   "metadata": {},
   "outputs": [],
   "source": [
    "df_test = pd.read_csv('test_set_features.csv')\n",
    "sub_format = pd.read_csv('submission_format.csv',index_col='respondent_id')"
   ]
  },
  {
   "cell_type": "code",
   "execution_count": 391,
   "metadata": {},
   "outputs": [],
   "source": [
    "initial_processing(df_test)\n",
    "xte = preprocessor.transform(df_test)\n",
    "ytepr = transform_MOC_output(model_logreg_l1.predict_proba(xte))"
   ]
  },
  {
   "cell_type": "code",
   "execution_count": 392,
   "metadata": {},
   "outputs": [
    {
     "data": {
      "text/plain": [
       "array([[0.06095041, 0.2810212 ],\n",
       "       [0.04236911, 0.03446331],\n",
       "       [0.35404326, 0.61019757],\n",
       "       ...,\n",
       "       [0.13912457, 0.18165487],\n",
       "       [0.089318  , 0.31684846],\n",
       "       [0.3678146 , 0.38753825]])"
      ]
     },
     "execution_count": 392,
     "metadata": {},
     "output_type": "execute_result"
    }
   ],
   "source": [
    "ytepr"
   ]
  },
  {
   "cell_type": "code",
   "execution_count": 393,
   "metadata": {},
   "outputs": [],
   "source": [
    "sub_format['h1n1_vaccine'] = ytepr[:,0]\n",
    "sub_format['seasonal_vaccine'] = ytepr[:,1]"
   ]
  },
  {
   "cell_type": "code",
   "execution_count": 395,
   "metadata": {},
   "outputs": [],
   "source": [
    "sub_format.to_csv('flu_sub_070520_01.csv', index=True)"
   ]
  },
  {
   "cell_type": "code",
   "execution_count": 396,
   "metadata": {},
   "outputs": [
    {
     "name": "stdout",
     "output_type": "stream",
     "text": [
      "respondent_id,h1n1_vaccine,seasonal_vaccine\n",
      "26707,0.060950411174664244,0.2810212043844564\n",
      "26708,0.042369108446963816,0.034463307209025164\n",
      "26709,0.35404326030740996,0.6101975706864255\n",
      "26710,0.4073845857829163,0.84140843637834\n",
      "26711,0.199337693004797,0.3917508425517273\n",
      "26712,0.45276797575149613,0.9379460708665571\n",
      "26713,0.3809567745165908,0.5778227461759351\n",
      "26714,0.1363375635215883,0.20617041411859013\n",
      "26715,0.05968877173348687,0.19057195110617084\n"
     ]
    }
   ],
   "source": [
    "!head flu_sub_070520_01.csv"
   ]
  },
  {
   "cell_type": "code",
   "execution_count": null,
   "metadata": {},
   "outputs": [],
   "source": []
  }
 ],
 "metadata": {
  "kernelspec": {
   "display_name": "Python 3",
   "language": "python",
   "name": "python3"
  },
  "language_info": {
   "codemirror_mode": {
    "name": "ipython",
    "version": 3
   },
   "file_extension": ".py",
   "mimetype": "text/x-python",
   "name": "python",
   "nbconvert_exporter": "python",
   "pygments_lexer": "ipython3",
   "version": "3.7.4"
  }
 },
 "nbformat": 4,
 "nbformat_minor": 4
}
